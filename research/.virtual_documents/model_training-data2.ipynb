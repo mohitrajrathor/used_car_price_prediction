


import pandas as pd 
import numpy as np 
import matplotlib.pyplot as plt
import seaborn as sns
import re
from sklearn.pipeline import Pipeline
from sklearn.preprocessing import StandardScaler, OrdinalEncoder, OneHotEncoder


# loading data
df = pd.read_csv("../data2/train.csv", index_col='id')
test_df = pd.read_csv("../data2/test.csv", index_col='id')


df.head()


# functions

# function to handle transmission 
def get_transmission_type(text):
    if 'M/T' in text or 'Manual' in text:
        return 'Manual'
    elif 'A/T' in text or 'Automatic' in text:
        return 'Automatic'
    elif 'CVT' in text:
        return 'CVT'
    else:
        return 'Other'

def get_num_speeds(text):
    match = re.search(r'(\d+)-Speed', text)
    if match:
        return int(match.group(1))
    else:
        return 0

def get_shift_mode(text):
    if 'Dual Shift' in text or 'Auto-Shift' in text:
        return 'Dual/Auto-Shift'
    elif 'Manual' in text:
        return 'Manual'
    else:
        return 'Standard'

def get_transmission_technology(text):
    if 'DCT' in text:
        return 'DCT'
    elif 'CVT' in text:
        return 'CVT'
    elif 'Auto-Shift' in text:
        return 'Auto-Shift'
    else:
        return 'unknown'

def get_production_status(text):
    if 'SCHEDULED' in text:
        return 1
    else:
        return 0


# extract horse power
def extract_hp(text):
    '''func to extract hp'''
    hp_match = re.search(r'(\d+\.?\d*)HP', text)
    return float(hp_match.group(1)) if hp_match else 0

# extract fuel capacity
def extract_fc(text):
    '''func to extract fuel capacity'''
    fc_match = re.search(r'(\d+\.?\d*)L', text)
    return float(fc_match.group(1)) if fc_match else 0




def feature_extractor(df):
    '''func to extract features from the dataframe'''
    df = df.copy()
    df['horse_power'] = df['engine'].apply(extract_hp)
    df['fuel_capacity'] = df['engine'].apply(extract_fc)
    df['trans_type'] = df.transmission.apply(get_transmission_type)
    df['num_speed'] = df.transmission.apply(get_num_speeds)
    df['shift_mode'] = df.transmission.apply(get_shift_mode)
    df['trans_tech'] = df.transmission.apply(get_transmission_technology)
    df['prod_status'] = df.transmission.apply(get_production_status)
    df['age'] = 2024 - df.model_year

    return df


def handle_nan(df):
    '''func to handle missing values'''
    df = df.copy()
    df['fuel_type'] = df['fuel_type'].replace([np.nan, '–'], 'missing')
    df['accident'] = df['accident'].replace([np.nan], 'None reported')
    df['clean_title'] = df['clean_title'].replace(np.nan, 'no')
    
    return df


# applying transformation
df = feature_extractor(df)
df = handle_nan(df)
df.isna().sum()


# bining 
ord_col = ['brand', 'model', 'ext_col', 'int_col', 'fuel_type', 'engine', 'transmission']
cat_col = ['accident', 'clean_title', 'trans_type', 'shift_mode', 'trans_tech', 'prod_status']
num_col = [ 'horse_power', 'fuel_capecity', 'num_speed', 'age']
drop_col = ['model_year', 'milage']


# applying transformation 
df = df.drop(drop_col, axis=1)





