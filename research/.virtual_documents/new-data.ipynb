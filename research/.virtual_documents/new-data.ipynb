import pandas as pd 
import numpy as np 


data = pd.read_csv("../data2/train.csv", index_col='id')


data.head()



