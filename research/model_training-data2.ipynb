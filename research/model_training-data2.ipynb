{
 "cells": [
  {
   "cell_type": "markdown",
   "metadata": {},
   "source": [
    "# Training and finding best model for the submission"
   ]
  },
  {
   "cell_type": "code",
   "execution_count": 26,
   "metadata": {},
   "outputs": [],
   "source": [
    "import pandas as pd \n",
    "import numpy as np \n",
    "import matplotlib.pyplot as plt\n",
    "import seaborn as sns\n",
    "import re\n",
    "from sklearn.pipeline import Pipeline\n",
    "from sklearn.preprocessing import StandardScaler, OrdinalEncoder, OneHotEncoder\n",
    "from sklearn.compose import ColumnTransformer"
   ]
  },
  {
   "cell_type": "code",
   "execution_count": 27,
   "metadata": {},
   "outputs": [],
   "source": [
    "# loading data\n",
    "df = pd.read_csv(\"../data2/train.csv\", index_col='id')\n",
    "test_df = pd.read_csv(\"../data2/test.csv\", index_col='id')"
   ]
  },
  {
   "cell_type": "code",
   "execution_count": 28,
   "metadata": {},
   "outputs": [
    {
     "data": {
      "text/html": [
       "<div>\n",
       "<style scoped>\n",
       "    .dataframe tbody tr th:only-of-type {\n",
       "        vertical-align: middle;\n",
       "    }\n",
       "\n",
       "    .dataframe tbody tr th {\n",
       "        vertical-align: top;\n",
       "    }\n",
       "\n",
       "    .dataframe thead th {\n",
       "        text-align: right;\n",
       "    }\n",
       "</style>\n",
       "<table border=\"1\" class=\"dataframe\">\n",
       "  <thead>\n",
       "    <tr style=\"text-align: right;\">\n",
       "      <th></th>\n",
       "      <th>brand</th>\n",
       "      <th>model</th>\n",
       "      <th>model_year</th>\n",
       "      <th>milage</th>\n",
       "      <th>fuel_type</th>\n",
       "      <th>engine</th>\n",
       "      <th>transmission</th>\n",
       "      <th>ext_col</th>\n",
       "      <th>int_col</th>\n",
       "      <th>accident</th>\n",
       "      <th>clean_title</th>\n",
       "      <th>price</th>\n",
       "    </tr>\n",
       "    <tr>\n",
       "      <th>id</th>\n",
       "      <th></th>\n",
       "      <th></th>\n",
       "      <th></th>\n",
       "      <th></th>\n",
       "      <th></th>\n",
       "      <th></th>\n",
       "      <th></th>\n",
       "      <th></th>\n",
       "      <th></th>\n",
       "      <th></th>\n",
       "      <th></th>\n",
       "      <th></th>\n",
       "    </tr>\n",
       "  </thead>\n",
       "  <tbody>\n",
       "    <tr>\n",
       "      <th>0</th>\n",
       "      <td>MINI</td>\n",
       "      <td>Cooper S Base</td>\n",
       "      <td>2007</td>\n",
       "      <td>213000</td>\n",
       "      <td>Gasoline</td>\n",
       "      <td>172.0HP 1.6L 4 Cylinder Engine Gasoline Fuel</td>\n",
       "      <td>A/T</td>\n",
       "      <td>Yellow</td>\n",
       "      <td>Gray</td>\n",
       "      <td>None reported</td>\n",
       "      <td>Yes</td>\n",
       "      <td>4200</td>\n",
       "    </tr>\n",
       "    <tr>\n",
       "      <th>1</th>\n",
       "      <td>Lincoln</td>\n",
       "      <td>LS V8</td>\n",
       "      <td>2002</td>\n",
       "      <td>143250</td>\n",
       "      <td>Gasoline</td>\n",
       "      <td>252.0HP 3.9L 8 Cylinder Engine Gasoline Fuel</td>\n",
       "      <td>A/T</td>\n",
       "      <td>Silver</td>\n",
       "      <td>Beige</td>\n",
       "      <td>At least 1 accident or damage reported</td>\n",
       "      <td>Yes</td>\n",
       "      <td>4999</td>\n",
       "    </tr>\n",
       "    <tr>\n",
       "      <th>2</th>\n",
       "      <td>Chevrolet</td>\n",
       "      <td>Silverado 2500 LT</td>\n",
       "      <td>2002</td>\n",
       "      <td>136731</td>\n",
       "      <td>E85 Flex Fuel</td>\n",
       "      <td>320.0HP 5.3L 8 Cylinder Engine Flex Fuel Capab...</td>\n",
       "      <td>A/T</td>\n",
       "      <td>Blue</td>\n",
       "      <td>Gray</td>\n",
       "      <td>None reported</td>\n",
       "      <td>Yes</td>\n",
       "      <td>13900</td>\n",
       "    </tr>\n",
       "    <tr>\n",
       "      <th>3</th>\n",
       "      <td>Genesis</td>\n",
       "      <td>G90 5.0 Ultimate</td>\n",
       "      <td>2017</td>\n",
       "      <td>19500</td>\n",
       "      <td>Gasoline</td>\n",
       "      <td>420.0HP 5.0L 8 Cylinder Engine Gasoline Fuel</td>\n",
       "      <td>Transmission w/Dual Shift Mode</td>\n",
       "      <td>Black</td>\n",
       "      <td>Black</td>\n",
       "      <td>None reported</td>\n",
       "      <td>Yes</td>\n",
       "      <td>45000</td>\n",
       "    </tr>\n",
       "    <tr>\n",
       "      <th>4</th>\n",
       "      <td>Mercedes-Benz</td>\n",
       "      <td>Metris Base</td>\n",
       "      <td>2021</td>\n",
       "      <td>7388</td>\n",
       "      <td>Gasoline</td>\n",
       "      <td>208.0HP 2.0L 4 Cylinder Engine Gasoline Fuel</td>\n",
       "      <td>7-Speed A/T</td>\n",
       "      <td>Black</td>\n",
       "      <td>Beige</td>\n",
       "      <td>None reported</td>\n",
       "      <td>Yes</td>\n",
       "      <td>97500</td>\n",
       "    </tr>\n",
       "  </tbody>\n",
       "</table>\n",
       "</div>"
      ],
      "text/plain": [
       "            brand              model  model_year  milage      fuel_type  \\\n",
       "id                                                                        \n",
       "0            MINI      Cooper S Base        2007  213000       Gasoline   \n",
       "1         Lincoln              LS V8        2002  143250       Gasoline   \n",
       "2       Chevrolet  Silverado 2500 LT        2002  136731  E85 Flex Fuel   \n",
       "3         Genesis   G90 5.0 Ultimate        2017   19500       Gasoline   \n",
       "4   Mercedes-Benz        Metris Base        2021    7388       Gasoline   \n",
       "\n",
       "                                               engine  \\\n",
       "id                                                      \n",
       "0        172.0HP 1.6L 4 Cylinder Engine Gasoline Fuel   \n",
       "1        252.0HP 3.9L 8 Cylinder Engine Gasoline Fuel   \n",
       "2   320.0HP 5.3L 8 Cylinder Engine Flex Fuel Capab...   \n",
       "3        420.0HP 5.0L 8 Cylinder Engine Gasoline Fuel   \n",
       "4        208.0HP 2.0L 4 Cylinder Engine Gasoline Fuel   \n",
       "\n",
       "                      transmission ext_col int_col  \\\n",
       "id                                                   \n",
       "0                              A/T  Yellow    Gray   \n",
       "1                              A/T  Silver   Beige   \n",
       "2                              A/T    Blue    Gray   \n",
       "3   Transmission w/Dual Shift Mode   Black   Black   \n",
       "4                      7-Speed A/T   Black   Beige   \n",
       "\n",
       "                                  accident clean_title  price  \n",
       "id                                                             \n",
       "0                            None reported         Yes   4200  \n",
       "1   At least 1 accident or damage reported         Yes   4999  \n",
       "2                            None reported         Yes  13900  \n",
       "3                            None reported         Yes  45000  \n",
       "4                            None reported         Yes  97500  "
      ]
     },
     "execution_count": 28,
     "metadata": {},
     "output_type": "execute_result"
    }
   ],
   "source": [
    "df.head()"
   ]
  },
  {
   "cell_type": "code",
   "execution_count": 29,
   "metadata": {},
   "outputs": [
    {
     "data": {
      "text/plain": [
       "1117"
      ]
     },
     "execution_count": 29,
     "metadata": {},
     "output_type": "execute_result"
    }
   ],
   "source": [
    "len(df.engine.unique())"
   ]
  },
  {
   "cell_type": "code",
   "execution_count": 30,
   "metadata": {},
   "outputs": [],
   "source": [
    "# functions\n",
    "\n",
    "# function to handle transmission \n",
    "def get_transmission_type(text):\n",
    "    if 'M/T' in text or 'Manual' in text:\n",
    "        return 'Manual'\n",
    "    elif 'A/T' in text or 'Automatic' in text:\n",
    "        return 'Automatic'\n",
    "    elif 'CVT' in text:\n",
    "        return 'CVT'\n",
    "    else:\n",
    "        return 'Other'\n",
    "\n",
    "def get_num_speeds(text):\n",
    "    match = re.search(r'(\\d+)-Speed', text)\n",
    "    if match:\n",
    "        return int(match.group(1))\n",
    "    else:\n",
    "        return 0\n",
    "\n",
    "def get_shift_mode(text):\n",
    "    if 'Dual Shift' in text or 'Auto-Shift' in text:\n",
    "        return 'Dual/Auto-Shift'\n",
    "    elif 'Manual' in text:\n",
    "        return 'Manual'\n",
    "    else:\n",
    "        return 'Standard'\n",
    "\n",
    "def get_transmission_technology(text):\n",
    "    if 'DCT' in text:\n",
    "        return 'DCT'\n",
    "    elif 'CVT' in text:\n",
    "        return 'CVT'\n",
    "    elif 'Auto-Shift' in text:\n",
    "        return 'Auto-Shift'\n",
    "    else:\n",
    "        return 'unknown'\n",
    "\n",
    "def get_production_status(text):\n",
    "    if 'SCHEDULED' in text:\n",
    "        return 1\n",
    "    else:\n",
    "        return 0\n",
    "\n",
    "\n",
    "# extract horse power\n",
    "def extract_hp(text):\n",
    "    '''func to extract hp'''\n",
    "    hp_match = re.search(r'(\\d+\\.?\\d*)HP', text)\n",
    "    return float(hp_match.group(1)) if hp_match else 0\n",
    "\n",
    "# extract fuel capacity\n",
    "def extract_fc(text):\n",
    "    '''func to extract fuel capacity'''\n",
    "    fc_match = re.search(r'(\\d+\\.?\\d*)L', text)\n",
    "    return float(fc_match.group(1)) if fc_match else 0\n",
    "\n",
    "\n",
    "\n",
    "\n",
    "def feature_extractor(df):\n",
    "    '''func to extract features from the dataframe'''\n",
    "    df = df.copy()\n",
    "    df['horse_power'] = df['engine'].apply(extract_hp)\n",
    "    df['fuel_capacity'] = df['engine'].apply(extract_fc)\n",
    "    df['trans_type'] = df.transmission.apply(get_transmission_type)\n",
    "    df['num_speed'] = df.transmission.apply(get_num_speeds)\n",
    "    df['shift_mode'] = df.transmission.apply(get_shift_mode)\n",
    "    df['trans_tech'] = df.transmission.apply(get_transmission_technology)\n",
    "    df['prod_status'] = df.transmission.apply(get_production_status)\n",
    "    df['age'] = 2025 - df.model_year\n",
    "    df['milage_per_year'] = (df['milage'] / df['age'])\n",
    "    df['score'] = df['horse_power'] + df['fuel_capacity'] + df['num_speed'] + df['milage_per_year']\n",
    "    \n",
    "\n",
    "    return df\n",
    "\n",
    "\n",
    "def handle_nan(df):\n",
    "    '''func to handle missing values'''\n",
    "    df = df.copy()\n",
    "    df['fuel_type'] = df['fuel_type'].replace([np.nan, '–'], 'missing')\n",
    "    df['accident'] = df['accident'].replace([np.nan], 'None reported')\n",
    "    df['clean_title'] = df['clean_title'].replace(np.nan, 'no')\n",
    "    \n",
    "    return df"
   ]
  },
  {
   "cell_type": "code",
   "execution_count": 31,
   "metadata": {},
   "outputs": [],
   "source": [
    "# applying transformation\n",
    "df = feature_extractor(df)\n",
    "df = handle_nan(df)\n",
    "\n",
    "\n",
    "\n",
    "# doing same for test_df\n",
    "test_df = feature_extractor(test_df)\n",
    "test_df = handle_nan(test_df)"
   ]
  },
  {
   "cell_type": "code",
   "execution_count": 32,
   "metadata": {},
   "outputs": [],
   "source": [
    "# bining \n",
    "ord_col = ['brand', 'model', 'ext_col', 'int_col', 'fuel_type', 'engine', 'transmission']\n",
    "cat_col = ['accident', 'clean_title', 'trans_type', 'shift_mode', 'trans_tech', 'prod_status']\n",
    "num_col = [ 'horse_power', 'fuel_capacity', 'num_speed', 'age', 'milage_per_year', 'score']\n",
    "drop_col = ['model_year', 'milage', 'price']"
   ]
  },
  {
   "cell_type": "code",
   "execution_count": 33,
   "metadata": {},
   "outputs": [],
   "source": [
    "# applying transformation \n",
    "target = df['price']\n",
    "df = df.drop(drop_col, axis=1)\n",
    "\n",
    "\n",
    "# removing price as price is not in drop col\n",
    "drop_col.remove('price')\n",
    "\n",
    "# droping form test_df\n",
    "test_df = test_df.drop(drop_col, axis=1)\n",
    "\n",
    "\n",
    "col_names = df.columns.tolist()"
   ]
  },
  {
   "cell_type": "code",
   "execution_count": 34,
   "metadata": {},
   "outputs": [],
   "source": [
    "\n",
    "# transformation pipeline\n",
    "trans_pipe = ColumnTransformer([\n",
    "    ('num', StandardScaler(), num_col),\n",
    "    ('cat', OneHotEncoder(drop='if_binary'), cat_col),\n",
    "    ('ord', OrdinalEncoder(handle_unknown='use_encoded_value', unknown_value=2000), ord_col)\n",
    "], remainder='passthrough')\n",
    "\n",
    "trans_df = trans_pipe.fit_transform(df)\n",
    "trans_test_df = trans_pipe.transform(test_df)"
   ]
  },
  {
   "cell_type": "code",
   "execution_count": 38,
   "metadata": {},
   "outputs": [
    {
     "data": {
      "image/png": "[encoded data removed]",
      "text/plain": [
       "<Figure size 640x480 with 2 Axes>"
      ]
     },
     "metadata": {},
     "output_type": "display_data"
    }
   ],
   "source": [
    "# find out correlation with price\n",
    "temp_df = pd.DataFrame(data=trans_df)\n",
    "temp_df['price'] = target\n",
    "\n",
    "sns.heatmap(temp_df.corr(), cmap='viridis')\n",
    "plt.show()"
   ]
  },
  {
   "cell_type": "code",
   "execution_count": 20,
   "metadata": {},
   "outputs": [
    {
     "name": "stdout",
     "output_type": "stream",
     "text": [
      "Linear model rmse: 67980.35171091204\n",
      "Linear model R2 Score: 0.12488491870788543\n"
     ]
    },
    {
     "name": "stderr",
     "output_type": "stream",
     "text": [
      "C:\\Users\\mohit\\anaconda3\\Lib\\site-packages\\sklearn\\metrics\\_regression.py:492: FutureWarning: 'squared' is deprecated in version 1.4 and will be removed in 1.6. To calculate the root mean squared error, use the function'root_mean_squared_error'.\n",
      "  warnings.warn(\n"
     ]
    }
   ],
   "source": [
    "# model training\n",
    "from sklearn.metrics import mean_squared_error, r2_score\n",
    "from sklearn.model_selection import train_test_split\n",
    "from sklearn.linear_model import LinearRegression, Ridge, Lasso\n",
    "\n",
    "X_train, X_test, y_train, y_test = train_test_split(trans_df, target, test_size=0.3, random_state=42)\n",
    "\n",
    "# model training\n",
    "model = LinearRegression()\n",
    "\n",
    "model.fit(X_train, y_train)\n",
    "\n",
    "# metrics printing\n",
    "print(\"Linear model rmse:\", mean_squared_error(y_test, model.predict(X_test), squared=False))\n",
    "print(\"Linear model R2 Score:\", r2_score(y_test, model.predict(X_test)))\n"
   ]
  },
  {
   "cell_type": "code",
   "execution_count": 21,
   "metadata": {},
   "outputs": [
    {
     "name": "stdout",
     "output_type": "stream",
     "text": [
      "Lasso model rmse: 68034.32521132934\n",
      "Lasso model R2 Score: 0.12349475894790707\n"
     ]
    },
    {
     "name": "stderr",
     "output_type": "stream",
     "text": [
      "C:\\Users\\mohit\\anaconda3\\Lib\\site-packages\\sklearn\\metrics\\_regression.py:492: FutureWarning: 'squared' is deprecated in version 1.4 and will be removed in 1.6. To calculate the root mean squared error, use the function'root_mean_squared_error'.\n",
      "  warnings.warn(\n"
     ]
    }
   ],
   "source": [
    "# lasso\n",
    "lasso = Lasso(100)\n",
    "lasso.fit(X_train, y_train)\n",
    "print(\"Lasso model rmse:\", mean_squared_error(y_test, lasso.predict(X_test), squared=False))\n",
    "print(\"Lasso model R2 Score:\", r2_score(y_test, lasso.predict(X_test)))\n"
   ]
  },
  {
   "cell_type": "code",
   "execution_count": 22,
   "metadata": {},
   "outputs": [
    {
     "name": "stdout",
     "output_type": "stream",
     "text": [
      "LassoCV model rmse: 68715.98123584749\n",
      "LassoCV model R2 Score: 0.10584283939197914\n"
     ]
    },
    {
     "name": "stderr",
     "output_type": "stream",
     "text": [
      "C:\\Users\\mohit\\anaconda3\\Lib\\site-packages\\sklearn\\metrics\\_regression.py:492: FutureWarning: 'squared' is deprecated in version 1.4 and will be removed in 1.6. To calculate the root mean squared error, use the function'root_mean_squared_error'.\n",
      "  warnings.warn(\n"
     ]
    }
   ],
   "source": [
    "from sklearn.linear_model import LassoCV\n",
    "\n",
    "# lassoCV\n",
    "lassocv = LassoCV(n_alphas=1000)\n",
    "lassocv.fit(X_train, y_train)\n",
    "print(\"LassoCV model rmse:\", mean_squared_error(y_test, lassocv.predict(X_test), squared=False))\n",
    "print(\"LassoCV model R2 Score:\", r2_score(y_test, lassocv.predict(X_test)))\n"
   ]
  },
  {
   "cell_type": "code",
   "execution_count": 23,
   "metadata": {},
   "outputs": [
    {
     "name": "stdout",
     "output_type": "stream",
     "text": [
      "Ridge model rmse: 67989.46144654337\n",
      "Ridge model R2 Score: 0.12465036266376373\n"
     ]
    },
    {
     "name": "stderr",
     "output_type": "stream",
     "text": [
      "C:\\Users\\mohit\\anaconda3\\Lib\\site-packages\\sklearn\\metrics\\_regression.py:492: FutureWarning: 'squared' is deprecated in version 1.4 and will be removed in 1.6. To calculate the root mean squared error, use the function'root_mean_squared_error'.\n",
      "  warnings.warn(\n"
     ]
    }
   ],
   "source": [
    "# ridge\n",
    "ridge = Ridge(200)\n",
    "ridge.fit(X_train, y_train)\n",
    "print(\"Ridge model rmse:\", mean_squared_error(y_test, ridge.predict(X_test), squared=False))\n",
    "print(\"Ridge model R2 Score:\", r2_score(y_test, ridge.predict(X_test)))\n",
    "\n"
   ]
  },
  {
   "cell_type": "code",
   "execution_count": 24,
   "metadata": {},
   "outputs": [
    {
     "name": "stdout",
     "output_type": "stream",
     "text": [
      "xgboost model rmse: 66292.26624556865\n",
      "XGBoost model R2 Score: 0.1678069829940796\n"
     ]
    },
    {
     "name": "stderr",
     "output_type": "stream",
     "text": [
      "C:\\Users\\mohit\\anaconda3\\Lib\\site-packages\\sklearn\\metrics\\_regression.py:492: FutureWarning: 'squared' is deprecated in version 1.4 and will be removed in 1.6. To calculate the root mean squared error, use the function'root_mean_squared_error'.\n",
      "  warnings.warn(\n"
     ]
    }
   ],
   "source": [
    "# using ensemble techniques\n",
    "\n",
    "import xgboost as xgb\n",
    "\n",
    "\n",
    "dtrain = xgb.DMatrix(X_train, label=y_train)\n",
    "dtest = xgb.DMatrix(X_test, label=y_test)\n",
    "d_test = xgb.DMatrix(trans_test_df)\n",
    "\n",
    "param = {\n",
    "    'objective' : \"reg:squarederror\",\n",
    "    'max_depth' : 5,\n",
    "    'eta' : 0.07,\n",
    "    'subsample' : 0.8,\n",
    "    'colsample_bytree' : 0.8\n",
    "}\n",
    "\n",
    "num_rounds = 100\n",
    "\n",
    "bst = xgb.train(param, dtrain, num_rounds)\n",
    "\n",
    "print(\"xgboost model rmse:\", mean_squared_error(y_test, bst.predict(dtest), squared=False))\n",
    "print(\"XGBoost model R2 Score:\", r2_score(y_test, bst.predict(dtest)))\n",
    "\n"
   ]
  },
  {
   "cell_type": "code",
   "execution_count": 16,
   "metadata": {},
   "outputs": [
    {
     "name": "stdout",
     "output_type": "stream",
     "text": [
      "Ridge model rmse: 101938.29785055968\n",
      "Ridge model R2 Score: -0.9677644445068478\n"
     ]
    },
    {
     "name": "stderr",
     "output_type": "stream",
     "text": [
      "C:\\Users\\mohit\\anaconda3\\Lib\\site-packages\\sklearn\\metrics\\_regression.py:492: FutureWarning: 'squared' is deprecated in version 1.4 and will be removed in 1.6. To calculate the root mean squared error, use the function'root_mean_squared_error'.\n",
      "  warnings.warn(\n"
     ]
    }
   ],
   "source": [
    "# decision tree regressor\n",
    "from sklearn.tree import DecisionTreeRegressor\n",
    "dt_reg = DecisionTreeRegressor()\n",
    "dt_reg.fit(X_train, y_train)\n",
    "print(\"dt model rmse:\", mean_squared_error(y_test, dt_reg.predict(X_test), squared=False))\n",
    "print(\"dt model R2 Score:\", r2_score(y_test, dt_reg.predict(X_test)))"
   ]
  },
  {
   "cell_type": "code",
   "execution_count": 25,
   "metadata": {},
   "outputs": [],
   "source": [
    "xgboost_prediction = bst.predict(d_test)\n",
    "\n",
    "def submission_file_maker(predicted_price, model_name):\n",
    "    sub = pd.DataFrame({\n",
    "        'id': test_df.index,\n",
    "        'price': predicted_price\n",
    "    })\n",
    "\n",
    "    sub.to_csv(f\"../data2/submission_{model_name}.csv\", index=False)\n",
    "\n",
    "submission_file_maker(xgboost_prediction, 'xgb_predictions')"
   ]
  },
  {
   "cell_type": "code",
   "execution_count": null,
   "metadata": {},
   "outputs": [],
   "source": [
    "# random forest classifier\n",
    "from sklearn.ensemble import RandomForestRegressor\n",
    "\n",
    "rf_reg = RandomForestRegressor(n_estimators=1000, random_state=42)\n",
    "rf_reg.fit(X_train, y_train)\n",
    "\n",
    "print(\"rf_reg model rmse:\", mean_squared_error(y_test, rf_reg.predict(X_test), squared=False))\n",
    "print(\"rf_reg model R2 Score:\", r2_score(y_test, rf_reg.predict(X_test)))"
   ]
  },
  {
   "cell_type": "code",
   "execution_count": null,
   "metadata": {},
   "outputs": [],
   "source": []
  }
 ],
 "metadata": {
  "kernelspec": {
   "display_name": "Python 3 (ipykernel)",
   "language": "python",
   "name": "python3"
  },
  "language_info": {
   "codemirror_mode": {
    "name": "ipython",
    "version": 3
   },
   "file_extension": ".py",
   "mimetype": "text/x-python",
   "name": "python",
   "nbconvert_exporter": "python",
   "pygments_lexer": "ipython3",
   "version": "3.11.9"
  }
 },
 "nbformat": 4,
 "nbformat_minor": 4
}
